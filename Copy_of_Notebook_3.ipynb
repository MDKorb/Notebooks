{
  "nbformat": 4,
  "nbformat_minor": 0,
  "metadata": {
    "kernelspec": {
      "display_name": "Python 3",
      "language": "python",
      "name": "python3"
    },
    "language_info": {
      "codemirror_mode": {
        "name": "ipython",
        "version": 3
      },
      "file_extension": ".py",
      "mimetype": "text/x-python",
      "name": "python",
      "nbconvert_exporter": "python",
      "pygments_lexer": "ipython3",
      "version": "3.7.3"
    },
    "colab": {
      "provenance": [],
      "include_colab_link": true
    }
  },
  "cells": [
    {
      "cell_type": "markdown",
      "metadata": {
        "id": "view-in-github",
        "colab_type": "text"
      },
      "source": [
        "<a href=\"https://colab.research.google.com/github/MDKorb/Notebooks/blob/main/Copy_of_Notebook_3.ipynb\" target=\"_parent\"><img src=\"https://colab.research.google.com/assets/colab-badge.svg\" alt=\"Open In Colab\"/></a>"
      ]
    },
    {
      "cell_type": "markdown",
      "metadata": {
        "id": "fUZUxG1CfJKo"
      },
      "source": [
        "# Programa Ingenias+ Data Science"
      ]
    },
    {
      "cell_type": "markdown",
      "metadata": {
        "id": "ZfnZX-ohfJOA"
      },
      "source": [
        "## Clase 2: Funciones y Estructuras de control"
      ]
    },
    {
      "cell_type": "markdown",
      "metadata": {
        "id": "2x9qTs74fJOx"
      },
      "source": [
        "## EJERCICIOS"
      ]
    },
    {
      "cell_type": "markdown",
      "metadata": {
        "id": "KG9ZCYugfJOx"
      },
      "source": [
        "Vamos a poner en practica ahora todo lo que vimos:"
      ]
    },
    {
      "cell_type": "markdown",
      "metadata": {
        "id": "-x2byZQ8fJOx"
      },
      "source": [
        "- Escribi una función que tome dos números enteros y calcule su división, devolviendo si la división es exacta o no."
      ]
    },
    {
      "cell_type": "code",
      "metadata": {
        "id": "7vslfcCNfJOy"
      },
      "source": [
        "def division(a, b):\n",
        "  result = a/b\n",
        "  print (result)\n",
        "  if a % b == 0:\n",
        "    print (\"es exacta\")\n",
        "  else:\n",
        "    print (\"no es exacta\")\n"
      ],
      "execution_count": null,
      "outputs": []
    },
    {
      "cell_type": "code",
      "metadata": {
        "id": "8OqSS2zmfJOz",
        "colab": {
          "base_uri": "https://localhost:8080/"
        },
        "outputId": "9511456c-c7c6-48fd-80a5-b5de2f2733db"
      },
      "source": [
        "division(4, 2)"
      ],
      "execution_count": null,
      "outputs": [
        {
          "output_type": "stream",
          "name": "stdout",
          "text": [
            "2.0\n",
            "es exacta\n"
          ]
        }
      ]
    },
    {
      "cell_type": "code",
      "metadata": {
        "id": "7lgngWV4fJO1",
        "colab": {
          "base_uri": "https://localhost:8080/"
        },
        "outputId": "9ebb159f-e972-4be9-bacd-0576f9ce643d"
      },
      "source": [
        "division(7, 3)"
      ],
      "execution_count": null,
      "outputs": [
        {
          "output_type": "stream",
          "name": "stdout",
          "text": [
            "2.3333333333333335\n",
            "no es exacta\n"
          ]
        }
      ]
    },
    {
      "cell_type": "markdown",
      "metadata": {
        "id": "-e0DATp4fJO3"
      },
      "source": [
        "- Escribi una función que tome un año y devuelva si es bisiesto o no."
      ]
    },
    {
      "cell_type": "code",
      "metadata": {
        "id": "xUetTz2jfJO3"
      },
      "source": [
        "def bisiesto(a):\n",
        "  if a % 4 == 0:\n",
        "    print (\"es bisiesto\")\n",
        "  else:\n",
        "    print (\"no es bisiesto\")\n"
      ],
      "execution_count": null,
      "outputs": []
    },
    {
      "cell_type": "code",
      "metadata": {
        "id": "ONRDSQgVfJO4",
        "colab": {
          "base_uri": "https://localhost:8080/"
        },
        "outputId": "868e3d85-a15e-4026-d177-29aa726d108d"
      },
      "source": [
        "bisiesto(2012)"
      ],
      "execution_count": null,
      "outputs": [
        {
          "output_type": "stream",
          "name": "stdout",
          "text": [
            "es bisiesto\n"
          ]
        }
      ]
    },
    {
      "cell_type": "code",
      "metadata": {
        "id": "ov_XeD1WfJO5",
        "colab": {
          "base_uri": "https://localhost:8080/"
        },
        "outputId": "0960c37f-f522-424a-ae86-bbc7ae3dc8ba"
      },
      "source": [
        "bisiesto(2017)"
      ],
      "execution_count": null,
      "outputs": [
        {
          "output_type": "stream",
          "name": "stdout",
          "text": [
            "no es bisiesto\n"
          ]
        }
      ]
    },
    {
      "cell_type": "markdown",
      "metadata": {
        "id": "urIjk2uPfJO7"
      },
      "source": [
        "- Escribi una función que tome los coeficientes de una ecuación de primer grado (a x + b = 0) y devuelva la solución."
      ]
    },
    {
      "cell_type": "code",
      "metadata": {
        "id": "MIqaoDZqfJO7"
      },
      "source": [
        "def solucion(a, b):\n",
        "  ec = -b / a\n",
        "  return print(ec)"
      ],
      "execution_count": null,
      "outputs": []
    },
    {
      "cell_type": "code",
      "metadata": {
        "id": "YljqjJuTfJO8",
        "colab": {
          "base_uri": "https://localhost:8080/"
        },
        "outputId": "dc8a6296-df0b-4895-d706-da3964a32eeb"
      },
      "source": [
        "solucion(2, 4)"
      ],
      "execution_count": null,
      "outputs": [
        {
          "output_type": "stream",
          "name": "stdout",
          "text": [
            "-2.0\n"
          ]
        }
      ]
    },
    {
      "cell_type": "code",
      "metadata": {
        "id": "mIe9eoP5fJO_",
        "colab": {
          "base_uri": "https://localhost:8080/"
        },
        "outputId": "fef52de3-f1ed-4a04-8da4-8d195feaa1f4"
      },
      "source": [
        "solucion(3, 5)"
      ],
      "execution_count": null,
      "outputs": [
        {
          "output_type": "stream",
          "name": "stdout",
          "text": [
            "-1.6666666666666667\n"
          ]
        }
      ]
    },
    {
      "cell_type": "code",
      "metadata": {
        "id": "djuJakLUfJPB",
        "colab": {
          "base_uri": "https://localhost:8080/"
        },
        "outputId": "c8d051d5-b6db-40a5-8b26-48674c40fe68"
      },
      "source": [
        "solucion(2, 0)"
      ],
      "execution_count": null,
      "outputs": [
        {
          "output_type": "stream",
          "name": "stdout",
          "text": [
            "0.0\n"
          ]
        }
      ]
    },
    {
      "cell_type": "markdown",
      "metadata": {
        "id": "Xx7VliisfJPF"
      },
      "source": [
        "- Escribi una función que simule un juego en el que dos jugadores tiran un dado. El que saque el valor más alto, gana. Si la puntuación coincide, empatan."
      ]
    },
    {
      "cell_type": "code",
      "metadata": {
        "id": "LCrq4FUPfJPF"
      },
      "source": [
        "def juego(jugador1, jugador2):\n",
        "  if jugador1 < jugador2:\n",
        "    print (\"gana jug 2\")\n",
        "  elif jugador1 > jugador2:\n",
        "    print (\"gana jug 1\")\n",
        "  else:\n",
        "    print (\"empate\")"
      ],
      "execution_count": null,
      "outputs": []
    },
    {
      "cell_type": "code",
      "metadata": {
        "id": "H89mIbuEfJPH",
        "colab": {
          "base_uri": "https://localhost:8080/"
        },
        "outputId": "45708f28-19cf-4fbd-a73b-3e3b34da5ffa"
      },
      "source": [
        "juego(343, 545)"
      ],
      "execution_count": null,
      "outputs": [
        {
          "output_type": "stream",
          "name": "stdout",
          "text": [
            "gana jug 2\n"
          ]
        }
      ]
    },
    {
      "cell_type": "markdown",
      "metadata": {
        "id": "7Q28d5YdfJPJ"
      },
      "source": [
        "- Escribi una función que tome dos números enteros y devuelva qué número es pares y cuál impar."
      ]
    },
    {
      "cell_type": "code",
      "metadata": {
        "id": "VhDwji65fJPJ"
      },
      "source": [
        "def par_impar(a, b):\n",
        "  if a % 2 ==0:\n",
        "    print (f\"{a} es par\")\n",
        "  else:\n",
        "    print(f\"{a}es impar\")\n",
        "  if b % 2 ==0:\n",
        "    print (f\"{b} es par\")\n",
        "  else:\n",
        "    print(f\"{b} es impar\")"
      ],
      "execution_count": null,
      "outputs": []
    },
    {
      "cell_type": "code",
      "metadata": {
        "id": "VRuaAWzsfJPK",
        "colab": {
          "base_uri": "https://localhost:8080/"
        },
        "outputId": "9e00c589-fc07-4dc6-b990-8fc41ff1e0a1"
      },
      "source": [
        "par_impar(4, 5)"
      ],
      "execution_count": null,
      "outputs": [
        {
          "output_type": "stream",
          "name": "stdout",
          "text": [
            "4 es par\n",
            "5 es impar\n"
          ]
        }
      ]
    },
    {
      "cell_type": "code",
      "metadata": {
        "id": "caJU7DCSfJPM",
        "colab": {
          "base_uri": "https://localhost:8080/"
        },
        "outputId": "8e46c7f8-6b7c-45f5-c0a6-b098d91a5f23"
      },
      "source": [
        "par_impar(4, 10)"
      ],
      "execution_count": null,
      "outputs": [
        {
          "output_type": "stream",
          "name": "stdout",
          "text": [
            "4 es par\n",
            "10 es par\n"
          ]
        }
      ]
    },
    {
      "cell_type": "markdown",
      "metadata": {
        "id": "nuyiy5nKfJPN"
      },
      "source": [
        "- Escribi una función que tome una lista de números y calcule su suma."
      ]
    },
    {
      "cell_type": "code",
      "metadata": {
        "id": "JmMLvO3WfJPN"
      },
      "source": [
        "def suma_numeros(lista):\n",
        "  suma = sum(lista)\n",
        "  return print (suma)\n"
      ],
      "execution_count": null,
      "outputs": []
    },
    {
      "cell_type": "code",
      "metadata": {
        "id": "05ANj-TsfJPP",
        "colab": {
          "base_uri": "https://localhost:8080/"
        },
        "outputId": "7a52f3ca-a2d7-4e85-e226-0f6e036e3f34"
      },
      "source": [
        "suma_numeros([1, 4, 5, 7, 8, 9])"
      ],
      "execution_count": null,
      "outputs": [
        {
          "output_type": "stream",
          "name": "stdout",
          "text": [
            "34\n"
          ]
        }
      ]
    },
    {
      "cell_type": "markdown",
      "metadata": {
        "id": "xOFXV3tnfJPR"
      },
      "source": [
        "- Escribi una función que tome dos palabras y diga si riman o no. Si coinciden las tres últimas letras debe devolver que riman. Si coinciden sólo las dos últimas tiene que decir que riman algo y si no, que no riman."
      ]
    },
    {
      "cell_type": "code",
      "metadata": {
        "id": "hPKmJVrAfJPR"
      },
      "source": [
        "def riman(palabra1, palabra2):\n",
        "  if palabra1[-3:] == palabra2[-3:]:\n",
        "    print (\"riman\")\n",
        "  elif palabra1[-2:] == palabra2[-2:]:\n",
        "    print (\"riman algo\")\n",
        "  else:\n",
        "    print (\"no riman\")\n",
        "\n"
      ],
      "execution_count": null,
      "outputs": []
    },
    {
      "cell_type": "code",
      "metadata": {
        "id": "8UZO4wYZfJPT",
        "colab": {
          "base_uri": "https://localhost:8080/"
        },
        "outputId": "2b9e578e-d97d-499f-f45c-0ee764fb99dd"
      },
      "source": [
        "riman('hola', 'cacerola')"
      ],
      "execution_count": null,
      "outputs": [
        {
          "output_type": "stream",
          "name": "stdout",
          "text": [
            "riman\n"
          ]
        }
      ]
    },
    {
      "cell_type": "code",
      "metadata": {
        "id": "FwYgQ00nfJPU",
        "colab": {
          "base_uri": "https://localhost:8080/"
        },
        "outputId": "6a4377b7-d2e0-4cdd-9748-22024a3e92ea"
      },
      "source": [
        "riman('jirafa', 'roja')"
      ],
      "execution_count": null,
      "outputs": [
        {
          "output_type": "stream",
          "name": "stdout",
          "text": [
            "no riman\n"
          ]
        }
      ]
    },
    {
      "cell_type": "code",
      "metadata": {
        "id": "rtz4a7zefJPX",
        "colab": {
          "base_uri": "https://localhost:8080/"
        },
        "outputId": "81085786-ec6f-42df-fbb2-22a79d5322cf"
      },
      "source": [
        "riman('computadora', 'cabecera')"
      ],
      "execution_count": null,
      "outputs": [
        {
          "output_type": "stream",
          "name": "stdout",
          "text": [
            "riman algo\n"
          ]
        }
      ]
    },
    {
      "cell_type": "markdown",
      "metadata": {
        "id": "0yxZUZHmfJPZ"
      },
      "source": [
        "- Escribi una función para convertir temperatura de grados celsius a fahrenheit (Formula : F = C * 9/5 + 32)"
      ]
    },
    {
      "cell_type": "code",
      "metadata": {
        "id": "1d8jR5L9fJPZ"
      },
      "source": [
        "def convert_grados(grados):\n",
        "  fareng = grados * 9/5 + 32\n",
        "  return print (fareng)\n"
      ],
      "execution_count": null,
      "outputs": []
    },
    {
      "cell_type": "code",
      "metadata": {
        "id": "velR3kdDfJPa",
        "colab": {
          "base_uri": "https://localhost:8080/"
        },
        "outputId": "0d2c8ecd-ba02-4b7e-f7d9-3d94829d58c6"
      },
      "source": [
        "convert_grados(24)"
      ],
      "execution_count": null,
      "outputs": [
        {
          "output_type": "stream",
          "name": "stdout",
          "text": [
            "75.2\n"
          ]
        }
      ]
    },
    {
      "cell_type": "markdown",
      "metadata": {
        "id": "OXCTEla-fJPb"
      },
      "source": [
        "- Escribi una función que devuelva la serie de Fibonacci entre 0 y 50."
      ]
    },
    {
      "cell_type": "code",
      "metadata": {
        "id": "lJTvAwsFfJPb"
      },
      "source": [
        "def fibo():\n",
        "  a, b = 0, 1\n",
        "  while a < 50:\n",
        "    print (a)\n",
        "    a, b = b, a+b\n"
      ],
      "execution_count": null,
      "outputs": []
    },
    {
      "cell_type": "code",
      "metadata": {
        "id": "R8X2RFUefJPd",
        "colab": {
          "base_uri": "https://localhost:8080/"
        },
        "outputId": "da351b58-7260-4c5c-cdb9-f4c713119e9e"
      },
      "source": [
        "fibo()"
      ],
      "execution_count": null,
      "outputs": [
        {
          "output_type": "stream",
          "name": "stdout",
          "text": [
            "0\n",
            "1\n",
            "1\n",
            "2\n",
            "3\n",
            "5\n",
            "8\n",
            "13\n",
            "21\n",
            "34\n"
          ]
        }
      ]
    },
    {
      "cell_type": "markdown",
      "metadata": {
        "id": "oLq0uXoIfJPe"
      },
      "source": [
        "**Para seguir practicando chequea este sitio web con [ejercicios](https://projecteuler.net/archives).**"
      ]
    }
  ]
}