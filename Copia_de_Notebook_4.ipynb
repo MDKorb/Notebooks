{
  "nbformat": 4,
  "nbformat_minor": 0,
  "metadata": {
    "kernelspec": {
      "display_name": "Python 3",
      "language": "python",
      "name": "python3"
    },
    "language_info": {
      "codemirror_mode": {
        "name": "ipython",
        "version": 3
      },
      "file_extension": ".py",
      "mimetype": "text/x-python",
      "name": "python",
      "nbconvert_exporter": "python",
      "pygments_lexer": "ipython3",
      "version": "3.7.3"
    },
    "colab": {
      "provenance": [],
      "include_colab_link": true
    }
  },
  "cells": [
    {
      "cell_type": "markdown",
      "metadata": {
        "id": "view-in-github",
        "colab_type": "text"
      },
      "source": [
        "<a href=\"https://colab.research.google.com/github/MDKorb/Notebooks/blob/main/Copia_de_Notebook_4.ipynb\" target=\"_parent\"><img src=\"https://colab.research.google.com/assets/colab-badge.svg\" alt=\"Open In Colab\"/></a>"
      ]
    },
    {
      "cell_type": "markdown",
      "metadata": {
        "id": "Gp2WddtV9IwG"
      },
      "source": [
        "# Programa Ingenias+ Data Science"
      ]
    },
    {
      "cell_type": "markdown",
      "source": [],
      "metadata": {
        "id": "LUE2z-hu4zKr"
      }
    },
    {
      "cell_type": "markdown",
      "metadata": {
        "id": "H4M1yVbf9IwH"
      },
      "source": [
        "Como dijimos en clases anteriores, Python tiene implementadas muchas librerias para poder trabajar con datos. En la clase de hoy trabajaremos con una de ellas: `Numpy`."
      ]
    },
    {
      "cell_type": "markdown",
      "source": [],
      "metadata": {
        "id": "cSLGQVwY6VSQ"
      }
    },
    {
      "cell_type": "markdown",
      "metadata": {
        "id": "GdTT8WeL9IwI"
      },
      "source": [
        "Antes de comenzar, vamos a hablar un poco de esta libreria.\n",
        "\n",
        "**Numpy** es una librería optimizada para realizar cálculos numéricos con vectores y matrices. A diferencia de otros lenguajes de programación, Python no posee en su estructura central la figura de matrices. Eso quiere decir que para poder trabajar con esta estructura de datos deberiamos trabajar con listas de listas. NumPy introduce el concepto de arrays o matrices."
      ]
    },
    {
      "cell_type": "markdown",
      "metadata": {
        "id": "qWkq3EHK9IwK"
      },
      "source": [
        "Al ser de código abierto, `numpy` posee una documentación muy amplia que es **SIEMPRE RECOMENDABLE** consultar."
      ]
    },
    {
      "cell_type": "markdown",
      "metadata": {
        "id": "nxe3KLUO9IwL"
      },
      "source": [
        "- [Documentacion NumPy](https://devdocs.io/numpy/)"
      ]
    },
    {
      "cell_type": "markdown",
      "metadata": {
        "id": "l1Ay3nSs9IwN"
      },
      "source": [
        "## Clase 4: Introduccion a NumPy"
      ]
    },
    {
      "cell_type": "markdown",
      "metadata": {
        "id": "1SOPXukc9IwO"
      },
      "source": [
        "NumPy no pertenece al _core_ de Python y es por eso que debemos importarlo para poder usarlo."
      ]
    },
    {
      "cell_type": "markdown",
      "metadata": {
        "id": "D9O1UmgD9IwP"
      },
      "source": [
        "Para importar una libreria en Python se usa la siguiente sintaxis:\n",
        "    \n",
        "`import libreria as alias`\n",
        "\n",
        "Para importar una funcion en particular de un modulo o libreria, utilizamos la sintaxis:\n",
        "    \n",
        "`from libreria import funcion`"
      ]
    },
    {
      "cell_type": "markdown",
      "metadata": {
        "id": "i9dlKZ1v9IwP"
      },
      "source": [
        "Como convencion, cuando se importa `numpy` se le asigna el alias `np`. Pero esto no es obligatorio, solo me facilita muchas veces la escritura del codigo."
      ]
    },
    {
      "cell_type": "code",
      "metadata": {
        "id": "bILSO0jr9IwQ"
      },
      "source": [
        "#Importar numpy\n",
        "import numpy as np"
      ],
      "execution_count": 34,
      "outputs": []
    },
    {
      "cell_type": "markdown",
      "metadata": {
        "id": "ksBsqePu9IwU"
      },
      "source": [
        "De ahora en mas para utilizar una función de Numpy solo tengo que usar `np` y luego llamar función. Por ejemplo, si quiero llamar la función `.mean()`, debo escribir: `np.mean()`."
      ]
    },
    {
      "cell_type": "markdown",
      "metadata": {
        "id": "VepZgbG69IwV"
      },
      "source": [
        "Comenzemos a ver que funciones se pueden utilizar en NumPy."
      ]
    },
    {
      "cell_type": "markdown",
      "metadata": {
        "id": "bA7MFSiS9IwV"
      },
      "source": [
        "- `.array()`"
      ]
    },
    {
      "cell_type": "markdown",
      "metadata": {
        "id": "FnPfh-Qa9IwW"
      },
      "source": [
        "Esta función me permite crear un array. Es posible crear arrays a partir de listas."
      ]
    },
    {
      "cell_type": "code",
      "metadata": {
        "id": "gr5IX5Zn9IwX"
      },
      "source": [
        "import numpy as np\n",
        "\n",
        "#creo un array\n",
        "arreglo = np.array([10, 11, 12, 13, 14, 15, 16, 17, 18, 19])"
      ],
      "execution_count": 17,
      "outputs": []
    },
    {
      "cell_type": "code",
      "source": [
        "creo = np.array([1, 2, 3, 4, 5, 6, 7, 8, 9, 10])"
      ],
      "metadata": {
        "id": "eCWQ1ddGnhVu"
      },
      "execution_count": 18,
      "outputs": []
    },
    {
      "cell_type": "code",
      "source": [
        "la_lista = [10, 11, 12, 13, 14, 15, 16, 17, 18, 19]\n",
        "tu_array = np.array(la_lista)\n",
        "print(tu_array)\n",
        "type(tu_array)\n"
      ],
      "metadata": {
        "colab": {
          "base_uri": "https://localhost:8080/"
        },
        "id": "JdR4GDxUn-fH",
        "outputId": "6b73a0a9-b3df-4628-b08b-4082548b0c32"
      },
      "execution_count": 20,
      "outputs": [
        {
          "output_type": "stream",
          "name": "stdout",
          "text": [
            "[10 11 12 13 14 15 16 17 18 19]\n"
          ]
        },
        {
          "output_type": "execute_result",
          "data": {
            "text/plain": [
              "numpy.ndarray"
            ]
          },
          "metadata": {},
          "execution_count": 20
        }
      ]
    },
    {
      "cell_type": "code",
      "metadata": {
        "id": "CJGrumM49Iwa",
        "outputId": "de547f9a-39f0-43c7-8e5b-23ade9941c20",
        "colab": {
          "base_uri": "https://localhost:8080/"
        }
      },
      "source": [
        "#crea una lista llamada mi_lista que contenga 10 numeros\n",
        "import numpy as np\n",
        "\n",
        "mi_lista = [45,123,89,3,45,2,99,56,34,10]\n",
        "\n",
        "#Ahora transforma tu lista en un array usando np.array y asignalo a la variable mi_array\n",
        "\n",
        "mi_array = np.array(mi_lista)\n",
        "\n",
        "#Imprimi mi_array\n",
        "print(mi_array)"
      ],
      "execution_count": 11,
      "outputs": [
        {
          "output_type": "stream",
          "name": "stdout",
          "text": [
            "[ 45 123  89   3  45   2  99  56  34  10]\n"
          ]
        }
      ]
    },
    {
      "cell_type": "markdown",
      "metadata": {
        "id": "pkmckzMD9Iwc"
      },
      "source": [
        "Podemos usar `type` para obtener el tipo de estructura de datos que estamos trabajando."
      ]
    },
    {
      "cell_type": "code",
      "metadata": {
        "id": "W60TBE9t9Iwd",
        "outputId": "c5661886-c92d-4e6a-dd3c-6bbb167a1d6b",
        "colab": {
          "base_uri": "https://localhost:8080/"
        }
      },
      "source": [
        "#Aplica type sobre mi_array para mostrar que tipo de estructura de datos es\n",
        "type(mi_array)\n"
      ],
      "execution_count": 33,
      "outputs": [
        {
          "output_type": "execute_result",
          "data": {
            "text/plain": [
              "numpy.ndarray"
            ]
          },
          "metadata": {},
          "execution_count": 33
        }
      ]
    },
    {
      "cell_type": "markdown",
      "metadata": {
        "id": "EbksvAhu9Iwg"
      },
      "source": [
        "Los arrays y las listas se comportan diferente frente operaciones matematicas con números."
      ]
    },
    {
      "cell_type": "code",
      "source": [
        "dos = [2]\n",
        "print(la_lista + dos)\n",
        "# print(la_lista + 2) No se puede sumar un numero asi a una lista"
      ],
      "metadata": {
        "colab": {
          "base_uri": "https://localhost:8080/"
        },
        "id": "t-4FoQ9aovrh",
        "outputId": "8622e304-6cfb-4deb-b3b2-893866d3751e"
      },
      "execution_count": 21,
      "outputs": [
        {
          "output_type": "stream",
          "name": "stdout",
          "text": [
            "[10, 11, 12, 13, 14, 15, 16, 17, 18, 19, 2]\n"
          ]
        }
      ]
    },
    {
      "cell_type": "code",
      "metadata": {
        "id": "ieN2Van39Iwh"
      },
      "source": [
        "#Corre el siguiente codigo\n",
        "#print(mi_lista + 2) # A MI LISTA NO PUEDO AGREGAR O CONTATENAR UN 2"
      ],
      "execution_count": 28,
      "outputs": []
    },
    {
      "cell_type": "markdown",
      "metadata": {
        "id": "nYV_cab39Iwl"
      },
      "source": [
        "No es posible sumar un numero a cada uno de los elementos de una lista. Sin embargo, esto funciona distinto en Numpy."
      ]
    },
    {
      "cell_type": "code",
      "source": [
        "la_lista2 = [i + 2 for i in la_lista]\n",
        "print(la_lista2)\n",
        "print(la_lista2 * 2)"
      ],
      "metadata": {
        "colab": {
          "base_uri": "https://localhost:8080/"
        },
        "id": "bQgA7WAppV_Z",
        "outputId": "64f850e4-983c-441f-e95b-7fcfbe484f40"
      },
      "execution_count": 27,
      "outputs": [
        {
          "output_type": "stream",
          "name": "stdout",
          "text": [
            "[12, 13, 14, 15, 16, 17, 18, 19, 20, 21]\n",
            "[12, 13, 14, 15, 16, 17, 18, 19, 20, 21, 12, 13, 14, 15, 16, 17, 18, 19, 20, 21]\n"
          ]
        }
      ]
    },
    {
      "cell_type": "code",
      "metadata": {
        "id": "PleL40BL9Iwl",
        "outputId": "fd10a670-6e26-4132-846b-a958701b0b8e",
        "colab": {
          "base_uri": "https://localhost:8080/"
        }
      },
      "source": [
        "#Suma 2 a cada elemento de mi_array\n",
        "mi_lista2 = [i + 2 for i in mi_lista]\n",
        "\n",
        "print(mi_lista2)"
      ],
      "execution_count": 29,
      "outputs": [
        {
          "output_type": "stream",
          "name": "stdout",
          "text": [
            "[47, 125, 91, 5, 47, 4, 101, 58, 36, 12]\n"
          ]
        }
      ]
    },
    {
      "cell_type": "markdown",
      "metadata": {
        "id": "B5fXUiPh9Iwo"
      },
      "source": [
        "El comportamiento tambien es distinto para la operacion de multiplicacion."
      ]
    },
    {
      "cell_type": "code",
      "metadata": {
        "id": "Xv_O7QVH9Iwo",
        "outputId": "99d6c8fc-90e9-42d1-fad1-c99093d7537e",
        "colab": {
          "base_uri": "https://localhost:8080/"
        }
      },
      "source": [
        "#Corre el siguiente codigo y fijate que pasa\n",
        "print(mi_lista * 2)"
      ],
      "execution_count": 25,
      "outputs": [
        {
          "output_type": "stream",
          "name": "stdout",
          "text": [
            "[45, 123, 89, 3, 45, 2, 99, 56, 34, 10, 45, 123, 89, 3, 45, 2, 99, 56, 34, 10]\n"
          ]
        }
      ]
    },
    {
      "cell_type": "code",
      "source": [
        "la_lista3 = [i * 1 for i in la_lista]\n",
        "print(la_lista3)"
      ],
      "metadata": {
        "colab": {
          "base_uri": "https://localhost:8080/"
        },
        "id": "tyh5muxcqCtc",
        "outputId": "19901988-10e7-47b3-ad14-905e6dc8b5c8"
      },
      "execution_count": null,
      "outputs": [
        {
          "output_type": "stream",
          "name": "stdout",
          "text": [
            "[10, 11, 12, 13, 14, 15, 16, 17, 18, 19]\n"
          ]
        }
      ]
    },
    {
      "cell_type": "code",
      "metadata": {
        "id": "B9rBbXW59Iwr",
        "outputId": "a9ecdf0b-92f0-43f2-d203-be765c9a04f5",
        "colab": {
          "base_uri": "https://localhost:8080/"
        }
      },
      "source": [
        "#Ahora multiplica por dos cada elemento de mi_array\n",
        "\n",
        "mi_lista3 =  [i * 2 for i in mi_array]\n",
        "\n",
        "print(mi_lista3)"
      ],
      "execution_count": 31,
      "outputs": [
        {
          "output_type": "stream",
          "name": "stdout",
          "text": [
            "[np.int64(90), np.int64(246), np.int64(178), np.int64(6), np.int64(90), np.int64(4), np.int64(198), np.int64(112), np.int64(68), np.int64(20)]\n"
          ]
        }
      ]
    },
    {
      "cell_type": "markdown",
      "metadata": {
        "id": "EuWM5oic9Iwt"
      },
      "source": [
        "Los arrays y las listas se comportan diferente frente a operaciones con otros arrays/listas"
      ]
    },
    {
      "cell_type": "code",
      "metadata": {
        "id": "GQ505ALF9Iwt"
      },
      "source": [
        "#Corre el siguiente codigo\n",
        "lista1 = [1, 2, 3, 4, 5]\n",
        "lista2 = [5, 4, 3, 2, 1]\n",
        "\n",
        "arr1 = np.array(lista1)\n",
        "arr2 = np.array(lista2)"
      ],
      "execution_count": 30,
      "outputs": []
    },
    {
      "cell_type": "code",
      "source": [
        "liste1 = [1, 2, 3, 4, 5]\n",
        "liste2 = [5, 4, 3, 2, 1]\n",
        "liste1 + liste2"
      ],
      "metadata": {
        "colab": {
          "base_uri": "https://localhost:8080/"
        },
        "id": "K4i_aoPmqWh7",
        "outputId": "c3c4850c-b302-4b2e-8dd9-f69f09ecdada"
      },
      "execution_count": 32,
      "outputs": [
        {
          "output_type": "execute_result",
          "data": {
            "text/plain": [
              "[1, 2, 3, 4, 5, 5, 4, 3, 2, 1]"
            ]
          },
          "metadata": {},
          "execution_count": 32
        }
      ]
    },
    {
      "cell_type": "code",
      "metadata": {
        "id": "CFhhBc0r9Iww",
        "outputId": "365b15ff-b557-4574-f934-c706531a15f3",
        "colab": {
          "base_uri": "https://localhost:8080/"
        }
      },
      "source": [
        "#Concatena las dos listas\n",
        "lista1 + lista2"
      ],
      "execution_count": 35,
      "outputs": [
        {
          "output_type": "execute_result",
          "data": {
            "text/plain": [
              "[1, 2, 3, 4, 5, 5, 4, 3, 2, 1]"
            ]
          },
          "metadata": {},
          "execution_count": 35
        }
      ]
    },
    {
      "cell_type": "code",
      "source": [
        "liste1 = [1, 2, 3, 4, 5]\n",
        "liste2 = [5, 4, 3, 2, 1]\n",
        "liste3 = [i + j for i in liste1 for j in liste2]\n",
        "liste3.append(i+j)\n",
        "\n",
        "# esto suma el primer elemento de cada lista\n",
        "print(liste3)"
      ],
      "metadata": {
        "colab": {
          "base_uri": "https://localhost:8080/"
        },
        "id": "IL_dh1R0qs9I",
        "outputId": "c850182a-166a-4c86-c6e8-2833a7d4d3c8"
      },
      "execution_count": 43,
      "outputs": [
        {
          "output_type": "stream",
          "name": "stdout",
          "text": [
            "[6, 5, 4, 3, 2, 7, 6, 5, 4, 3, 8, 7, 6, 5, 4, 9, 8, 7, 6, 5, 10, 9, 8, 7, 6, 6]\n"
          ]
        }
      ]
    },
    {
      "cell_type": "code",
      "metadata": {
        "id": "xCz2gztf9Iwy",
        "outputId": "ca511b86-691f-4fe9-d38a-7bc640689aa2",
        "colab": {
          "base_uri": "https://localhost:8080/"
        }
      },
      "source": [
        "#Suma los elementos de los dos arrays\n",
        "\n",
        "lista3 = []\n",
        "for i in lista1:\n",
        "  for j in lista2:\n",
        "    lista3.append(i + j)\n",
        "print(lista3)\n",
        "print(lista1+lista2)\n",
        "\n",
        "lista1 = [1,2,3,4]\n",
        "lista2 = [9,2,3,4]\n",
        "array1 = np.array(lista1)\n",
        "array2 = np.array(lista2)\n",
        "\n",
        "print(array1 + array2)"
      ],
      "execution_count": 41,
      "outputs": [
        {
          "output_type": "stream",
          "name": "stdout",
          "text": [
            "[6, 5, 4, 3, 2, 7, 6, 5, 4, 3, 8, 7, 6, 5, 4, 9, 8, 7, 6, 5, 10, 9, 8, 7, 6]\n",
            "[1, 2, 3, 4, 5, 5, 4, 3, 2, 1]\n",
            "[10  4  6  8]\n"
          ]
        }
      ]
    },
    {
      "cell_type": "code",
      "metadata": {
        "id": "RtdR2N8W9Iw0",
        "colab": {
          "base_uri": "https://localhost:8080/"
        },
        "outputId": "c84302e5-896e-46ac-f188-643d376ec472"
      },
      "source": [
        "#Multiplica los elementos de cada arreglo\n",
        "lista=[]\n",
        "for i in array1:\n",
        " for j in array2:\n",
        "  arreglo_f = array1 * array2\n",
        "print(arreglo_f)"
      ],
      "execution_count": 44,
      "outputs": [
        {
          "output_type": "stream",
          "name": "stdout",
          "text": [
            "[ 9  4  9 16]\n"
          ]
        }
      ]
    },
    {
      "cell_type": "code",
      "metadata": {
        "id": "NSIEt1ni9Iw2",
        "colab": {
          "base_uri": "https://localhost:8080/"
        },
        "outputId": "290982da-fcc5-4ef6-fce8-6f41b258d227"
      },
      "source": [
        "lista=[]\n",
        "for i in array1:\n",
        " for j in array2:\n",
        "  arreglo_f = array1 - array2\n",
        "print(arreglo_f)"
      ],
      "execution_count": 51,
      "outputs": [
        {
          "output_type": "stream",
          "name": "stdout",
          "text": [
            "[-8  0  0  0]\n"
          ]
        }
      ]
    },
    {
      "cell_type": "code",
      "metadata": {
        "id": "rfU5a4JT9Iw5",
        "colab": {
          "base_uri": "https://localhost:8080/"
        },
        "outputId": "277a11b9-d7fb-45c1-98a1-41cc1e047fa3"
      },
      "source": [
        "#Dividi los dos arrays\n",
        "lista=[]\n",
        "for i in array1:\n",
        " for j in array2:\n",
        "  arreglo_f = array1 // array2\n",
        "print(arreglo_f)"
      ],
      "execution_count": 46,
      "outputs": [
        {
          "output_type": "stream",
          "name": "stdout",
          "text": [
            "[0 1 1 1]\n"
          ]
        }
      ]
    },
    {
      "cell_type": "code",
      "metadata": {
        "id": "vsK1bh2t9Iw_",
        "colab": {
          "base_uri": "https://localhost:8080/"
        },
        "outputId": "8730c651-73b2-4878-82c5-f3bdfb8f5a44"
      },
      "source": [
        "#Eleva el array1 al array2\n",
        "lista=[]\n",
        "for i in array1:\n",
        " for j in array2:\n",
        "  arreglo_f = array1 ** array2\n",
        "print(arreglo_f)"
      ],
      "execution_count": 47,
      "outputs": [
        {
          "output_type": "stream",
          "name": "stdout",
          "text": [
            "[  1   4  27 256]\n"
          ]
        }
      ]
    },
    {
      "cell_type": "markdown",
      "metadata": {
        "id": "xHrtSrCs9IxC"
      },
      "source": [
        "Para acceder a los elementos de los arrays de una dimension se utilizan los indices como las listas."
      ]
    },
    {
      "cell_type": "code",
      "metadata": {
        "id": "_AlcV5K09IxC",
        "outputId": "3efb7286-8945-456f-ffa5-700581dd7707",
        "colab": {
          "base_uri": "https://localhost:8080/"
        }
      },
      "source": [
        "#Corre el siguiente codigo\n",
        "print(lista1[0], arr1[0])"
      ],
      "execution_count": 48,
      "outputs": [
        {
          "output_type": "stream",
          "name": "stdout",
          "text": [
            "1 1\n"
          ]
        }
      ]
    },
    {
      "cell_type": "code",
      "metadata": {
        "id": "rKRYd4OK9IxG",
        "outputId": "885c7bb2-9800-450c-92e9-3de46506fb95",
        "colab": {
          "base_uri": "https://localhost:8080/"
        }
      },
      "source": [
        "#Obtene el 3er elemento de arr1\n",
        "print(lista1[2], arr1[2])"
      ],
      "execution_count": 49,
      "outputs": [
        {
          "output_type": "stream",
          "name": "stdout",
          "text": [
            "3 3\n"
          ]
        }
      ]
    },
    {
      "cell_type": "code",
      "metadata": {
        "id": "HihzUNA09IxI",
        "outputId": "c9cb029d-1576-48af-d684-16ff7b0b5fbc",
        "colab": {
          "base_uri": "https://localhost:8080/"
        }
      },
      "source": [
        "#Obtene el 5to elemento de arr2\n",
        "print (arr2[4])"
      ],
      "execution_count": 54,
      "outputs": [
        {
          "output_type": "stream",
          "name": "stdout",
          "text": [
            "1\n"
          ]
        }
      ]
    },
    {
      "cell_type": "code",
      "metadata": {
        "id": "4uvf6wfu9IxL",
        "colab": {
          "base_uri": "https://localhost:8080/"
        },
        "outputId": "5dab25a3-108f-4e34-a94e-19380ee922aa"
      },
      "source": [
        "#Obtene el ultimo elemento de arr1\n",
        "print(arr1[-1])"
      ],
      "execution_count": 53,
      "outputs": [
        {
          "output_type": "stream",
          "name": "stdout",
          "text": [
            "5\n"
          ]
        }
      ]
    },
    {
      "cell_type": "markdown",
      "metadata": {
        "id": "Mavn6y_Q9IxN"
      },
      "source": [
        "Asi tambien obtenemos una porción del array de la misma manera que obtenemos una parte de una lista. A su vez podemos reasignar nuevos valores a una porción del array."
      ]
    },
    {
      "cell_type": "code",
      "metadata": {
        "id": "FBjVCpWo9IxN",
        "colab": {
          "base_uri": "https://localhost:8080/"
        },
        "outputId": "212e38f0-d80c-4663-9bf3-42744ac0e50f"
      },
      "source": [
        "#Corre el siguiente codigo\n",
        "# Array1 tiene 4 elementos [0:3]\n",
        "lista1 = [1,2,3,4]\n",
        "lista2 = [9,2,3,4]\n",
        "array1 = np.array(lista1)\n",
        "array2 = np.array(lista2)\n",
        "\n",
        "array1[1:4] = [22, 23, 24]    # Acordarse que tomamos hasta N-1 entonces si queremos 3 numeros debemos poner 1:4 en este caso\n",
        "\n",
        "print(array1)"
      ],
      "execution_count": 52,
      "outputs": [
        {
          "output_type": "stream",
          "name": "stdout",
          "text": [
            "[ 1 22 23 24]\n"
          ]
        }
      ]
    },
    {
      "cell_type": "code",
      "metadata": {
        "id": "9F9vBgU69IxP",
        "outputId": "52c44adc-def3-4dc6-ec22-6158a4f61281",
        "colab": {
          "base_uri": "https://localhost:8080/"
        }
      },
      "source": [
        "#Imprimi el arr1\n",
        "print(arr1)"
      ],
      "execution_count": 55,
      "outputs": [
        {
          "output_type": "stream",
          "name": "stdout",
          "text": [
            "[1 2 3 4 5]\n"
          ]
        }
      ]
    },
    {
      "cell_type": "markdown",
      "metadata": {
        "id": "89rDeEhV9IxR"
      },
      "source": [
        "## Arreglos multidimensionales"
      ]
    },
    {
      "cell_type": "markdown",
      "metadata": {
        "id": "CRUXEDm49IxR"
      },
      "source": [
        "Las listas son cadenas unidimensionales de elementos. Los arreglos pueden ser multidimensionales. Para comprender mejor que son, miremos el siguiente ejemplo:"
      ]
    },
    {
      "cell_type": "code",
      "metadata": {
        "id": "kuzYsFb99IxS",
        "outputId": "3cb7f334-7b59-404a-9aa1-f60449d3713c",
        "colab": {
          "base_uri": "https://localhost:8080/"
        }
      },
      "source": [
        "#Corre el siguiente codigo\n",
        "lista = [0, 1, 3], [3, 4, 5]\n",
        "arr2d = np.array(lista)\n",
        "print(arr2d)"
      ],
      "execution_count": 59,
      "outputs": [
        {
          "output_type": "stream",
          "name": "stdout",
          "text": [
            "[[0 1 3]\n",
            " [3 4 5]]\n"
          ]
        }
      ]
    },
    {
      "cell_type": "code",
      "metadata": {
        "id": "oNqrJJbi9IxU",
        "outputId": "46260141-2672-47b8-b583-40f263663fb0",
        "colab": {
          "base_uri": "https://localhost:8080/"
        }
      },
      "source": [
        "#Veamos cuantas dimensiones tiene el array\n",
        "print(arr2d.ndim) # Dos filas"
      ],
      "execution_count": 60,
      "outputs": [
        {
          "output_type": "stream",
          "name": "stdout",
          "text": [
            "2\n"
          ]
        }
      ]
    },
    {
      "cell_type": "code",
      "metadata": {
        "id": "Vj0qCMcu9IxW",
        "outputId": "c6399082-d0fc-47ac-8a11-ff27f912f604",
        "colab": {
          "base_uri": "https://localhost:8080/"
        }
      },
      "source": [
        "#Veamos cuantos elementos tiene el array\n",
        "print(arr2d.size) # 6 elementos"
      ],
      "execution_count": 61,
      "outputs": [
        {
          "output_type": "stream",
          "name": "stdout",
          "text": [
            "6\n"
          ]
        }
      ]
    },
    {
      "cell_type": "code",
      "metadata": {
        "id": "VFKyjgth9IxY",
        "outputId": "82a5edb9-bb03-4004-e7a0-a4df7d06f0c0",
        "colab": {
          "base_uri": "https://localhost:8080/"
        }
      },
      "source": [
        "#Arma ahora un array de 3 dimensiones.\n",
        "coso = [[[2,4,6],[1,3,5],[8,10,12]]]\n",
        "arr3d = np.array(coso)\n",
        "print(arr3d)"
      ],
      "execution_count": 67,
      "outputs": [
        {
          "output_type": "stream",
          "name": "stdout",
          "text": [
            "[[[ 2  4  6]\n",
            "  [ 1  3  5]\n",
            "  [ 8 10 12]]]\n"
          ]
        }
      ]
    },
    {
      "cell_type": "code",
      "metadata": {
        "id": "wfHd2SMX9Ixa",
        "outputId": "ecccd33d-8f7b-4f3e-dec4-6b1c3198e51e",
        "colab": {
          "base_uri": "https://localhost:8080/"
        }
      },
      "source": [
        "#Chequea usando ndim que efectivamente tenga tres dimensiones\n",
        "print(arr3d.ndim)"
      ],
      "execution_count": 68,
      "outputs": [
        {
          "output_type": "stream",
          "name": "stdout",
          "text": [
            "3\n"
          ]
        }
      ]
    },
    {
      "cell_type": "markdown",
      "metadata": {
        "id": "fmEhCwq49Ixb"
      },
      "source": [
        "**¿Como accedemos entonces a un array de mas de una dimension?**"
      ]
    },
    {
      "cell_type": "code",
      "metadata": {
        "id": "-9c0rOTg9Ixc",
        "colab": {
          "base_uri": "https://localhost:8080/"
        },
        "outputId": "f3eb6a9f-00ef-4eb7-ffc4-ea3f2e787165"
      },
      "source": [
        "#definamos un nuevo array\n",
        "lista2 = [[0, 1, 3], [3, 4, 5], [9, 10, 4], [2, 5, 6]]\n",
        "nuevo_array = np.array(lista2)\n",
        "print(nuevo_array)"
      ],
      "execution_count": 69,
      "outputs": [
        {
          "output_type": "stream",
          "name": "stdout",
          "text": [
            "[[ 0  1  3]\n",
            " [ 3  4  5]\n",
            " [ 9 10  4]\n",
            " [ 2  5  6]]\n"
          ]
        }
      ]
    },
    {
      "cell_type": "markdown",
      "metadata": {
        "id": "Hi_zFded9Ixd"
      },
      "source": [
        "¿Cuantas dimensiones tiene el array `nuevo_array`? Comprobalo usando `ndim`."
      ]
    },
    {
      "cell_type": "code",
      "metadata": {
        "id": "HL6EzD_p9Ixe",
        "outputId": "178ffdba-a425-4ade-e426-c1cb08e4862e",
        "colab": {
          "base_uri": "https://localhost:8080/"
        }
      },
      "source": [
        "#Dimensiones de nuevo_array\n",
        "print(nuevo_array.ndim)"
      ],
      "execution_count": 70,
      "outputs": [
        {
          "output_type": "stream",
          "name": "stdout",
          "text": [
            "2\n"
          ]
        }
      ]
    },
    {
      "cell_type": "code",
      "metadata": {
        "id": "gbYdjAsA9Ixg",
        "outputId": "de19b853-cf9a-4c5d-f105-37c267f8f2ce",
        "colab": {
          "base_uri": "https://localhost:8080/"
        }
      },
      "source": [
        "#Mostra nuevo_array\n",
        "print(nuevo_array)"
      ],
      "execution_count": 72,
      "outputs": [
        {
          "output_type": "stream",
          "name": "stdout",
          "text": [
            "[[ 0  1  3]\n",
            " [ 3  4  5]\n",
            " [ 9 10  4]\n",
            " [ 2  5  6]]\n"
          ]
        }
      ]
    },
    {
      "cell_type": "markdown",
      "metadata": {
        "id": "BRDLHnGA9Ixj"
      },
      "source": [
        "Si para un array de 1 dimension, usabamos un indice, para un array de n dimensiones tenemos que usar n indices. En el caso de 2 dimensiones, usaremos 2 indices. El primero indica la fila y el segundo la columna."
      ]
    },
    {
      "cell_type": "code",
      "metadata": {
        "id": "gR50Ev219Ixk",
        "outputId": "7af53af4-3b35-46a0-c925-e069def66b04",
        "colab": {
          "base_uri": "https://localhost:8080/"
        }
      },
      "source": [
        "#Corre el siguiente codigo\n",
        "print(nuevo_array[0, 1])"
      ],
      "execution_count": 74,
      "outputs": [
        {
          "output_type": "stream",
          "name": "stdout",
          "text": [
            "1\n"
          ]
        }
      ]
    },
    {
      "cell_type": "code",
      "metadata": {
        "id": "Vlrqe2DZ9Ixo",
        "outputId": "3be13a0b-25bc-4214-f6bb-a4a6ba0e5e41",
        "colab": {
          "base_uri": "https://localhost:8080/"
        }
      },
      "source": [
        "#Accede al tercer elemento de la segunda fila de nuevo_array\n",
        "print(nuevo_array[1,2])"
      ],
      "execution_count": 78,
      "outputs": [
        {
          "output_type": "stream",
          "name": "stdout",
          "text": [
            "5\n"
          ]
        }
      ]
    },
    {
      "cell_type": "code",
      "metadata": {
        "id": "A9jsjXoK9Ixs",
        "outputId": "aabc7438-ce0b-4e4b-962f-67c344f103f6",
        "colab": {
          "base_uri": "https://localhost:8080/"
        }
      },
      "source": [
        "#Accede al cuarto elemento de la segunda columna de nuevo_array\n",
        "print(nuevo_array[3,2]) #no hay cuarto elemento"
      ],
      "execution_count": 82,
      "outputs": [
        {
          "output_type": "stream",
          "name": "stdout",
          "text": [
            "6\n"
          ]
        }
      ]
    },
    {
      "cell_type": "code",
      "metadata": {
        "id": "sGc4P3E19Ixt",
        "outputId": "165a938e-dd10-4055-a4fd-405eba458d81",
        "colab": {
          "base_uri": "https://localhost:8080/"
        }
      },
      "source": [
        "#Accedo a toda la segunda columna\n",
        "nuevo_array[:,1]"
      ],
      "execution_count": 86,
      "outputs": [
        {
          "output_type": "execute_result",
          "data": {
            "text/plain": [
              "array([ 1,  4, 10,  5])"
            ]
          },
          "metadata": {},
          "execution_count": 86
        }
      ]
    },
    {
      "cell_type": "code",
      "metadata": {
        "id": "1pxpVLmO9Ixw",
        "outputId": "5a46c2d4-588b-41a8-9fcf-c9476486d34f",
        "colab": {
          "base_uri": "https://localhost:8080/"
        }
      },
      "source": [
        "# Accede a un subarray que vaya desde el segundo elemento de la primer columna hasta el cuarto elemento de la tercer\n",
        "# columna de nuevo_array\n",
        "\n",
        "print(nuevo_array[1:4 ,0:3])"
      ],
      "execution_count": 87,
      "outputs": [
        {
          "output_type": "stream",
          "name": "stdout",
          "text": [
            "[[ 3  4  5]\n",
            " [ 9 10  4]\n",
            " [ 2  5  6]]\n"
          ]
        }
      ]
    },
    {
      "cell_type": "code",
      "metadata": {
        "id": "p9fDidG99Ixy",
        "outputId": "5126abff-975b-49fe-ee1b-710457e6a8e5",
        "colab": {
          "base_uri": "https://localhost:8080/"
        }
      },
      "source": [
        "# Accede a un subarray que vaya desde el primer elemento de la segunda fila hasta el segundo elemento de la cuarta\n",
        "#fila de nuevo_array\n",
        "\n",
        "print(nuevo_array[1:5 , 0:2])"
      ],
      "execution_count": 88,
      "outputs": [
        {
          "output_type": "stream",
          "name": "stdout",
          "text": [
            "[[ 3  4]\n",
            " [ 9 10]\n",
            " [ 2  5]]\n"
          ]
        }
      ]
    },
    {
      "cell_type": "markdown",
      "metadata": {
        "id": "YpXEjKk09Ix0"
      },
      "source": [
        "## Creación de arreglos"
      ]
    },
    {
      "cell_type": "markdown",
      "metadata": {
        "id": "tD-27Se19Ix1"
      },
      "source": [
        "- **np.zeros(shape, dtype, order)**: Crea un array con todos ceros en sus posiciones"
      ]
    },
    {
      "cell_type": "code",
      "metadata": {
        "id": "Kcdzl_U-9Ix2",
        "outputId": "e900473a-6f61-4b8a-fa17-b305ba2679b9",
        "colab": {
          "base_uri": "https://localhost:8080/"
        }
      },
      "source": [
        "#Corre el siguiente codigo\n",
        "print(np.zeros((2, 2, 2)))"
      ],
      "execution_count": 89,
      "outputs": [
        {
          "output_type": "stream",
          "name": "stdout",
          "text": [
            "[[[0. 0.]\n",
            "  [0. 0.]]\n",
            "\n",
            " [[0. 0.]\n",
            "  [0. 0.]]]\n"
          ]
        }
      ]
    },
    {
      "cell_type": "markdown",
      "metadata": {
        "id": "Pbfo4SMN9Ix4"
      },
      "source": [
        "- **np.ones(shape, dtype, order)**: Crea un array con todos unos en sus posiciones"
      ]
    },
    {
      "cell_type": "code",
      "metadata": {
        "id": "XHnqDg3F9Ix5",
        "outputId": "052c10a2-e108-4f2d-8263-7a517098d51d",
        "colab": {
          "base_uri": "https://localhost:8080/"
        }
      },
      "source": [
        "#Corre el siguiente codigo\n",
        "print(np.ones(10))"
      ],
      "execution_count": 90,
      "outputs": [
        {
          "output_type": "stream",
          "name": "stdout",
          "text": [
            "[1. 1. 1. 1. 1. 1. 1. 1. 1. 1.]\n"
          ]
        }
      ]
    },
    {
      "cell_type": "markdown",
      "metadata": {
        "id": "CYwoyqUz9Ix7"
      },
      "source": [
        "- **np.random.rand(d0, d1, ..., dn)**: Genera un array con valores al azar con una distribución `[0, 1)` y segun las dimensiones pasada como argumento."
      ]
    },
    {
      "cell_type": "code",
      "metadata": {
        "id": "WZL0bOTF9Ix7",
        "outputId": "56da8123-1df7-44d1-db24-df84c60870a7",
        "colab": {
          "base_uri": "https://localhost:8080/"
        }
      },
      "source": [
        "#Genera un array con valores al azar\n",
        "print(np.random.randn(10))"
      ],
      "execution_count": 91,
      "outputs": [
        {
          "output_type": "stream",
          "name": "stdout",
          "text": [
            "[ 0.54964581 -1.06984785  1.13255067 -0.40474895 -1.72203218 -1.29929407\n",
            " -0.91669096 -0.38720385 -0.51785388 -2.94277101]\n"
          ]
        }
      ]
    },
    {
      "cell_type": "markdown",
      "metadata": {
        "id": "uL9DAYO-9Ix8"
      },
      "source": [
        "- **np.random.randint(low, high, size)**: Devuelve un array con enteros al azar. Cuando se especifica un solo entero como argumento este entero es entendido como el mayor valor que ese numero random puede tomar. Si se pasan dos, uno es el menor valor y el otro es el mayor valor. Con size se le puede decir que dimensiones tiene el array. Si no le paso ningun valor, devolvera solo un numero entero."
      ]
    },
    {
      "cell_type": "code",
      "metadata": {
        "id": "KeLDVrWI9Ix9",
        "outputId": "f8fcff6e-1d39-4bdb-d562-0140c8b9acaa",
        "colab": {
          "base_uri": "https://localhost:8080/"
        }
      },
      "source": [
        "#Genera un array con enteros al azar\n",
        "np.random.randint(5)"
      ],
      "execution_count": 92,
      "outputs": [
        {
          "output_type": "execute_result",
          "data": {
            "text/plain": [
              "3"
            ]
          },
          "metadata": {},
          "execution_count": 92
        }
      ]
    },
    {
      "cell_type": "markdown",
      "metadata": {
        "id": "vnNsy9gw9Ix_"
      },
      "source": [
        "- **np.arange([start, ]stop, [step, ])**: Devuelve numero simetricamente distribuidos segun los valores datos. El primer valor es el comienzo, el segundo el final y el tercero representa cada cuanto queremos esos valores."
      ]
    },
    {
      "cell_type": "code",
      "metadata": {
        "id": "vOuXCx4D9Ix_",
        "outputId": "cb750ddb-b83e-4ce1-aee6-433515e3ce98",
        "colab": {
          "base_uri": "https://localhost:8080/"
        }
      },
      "source": [
        "#Corre esta linea de codigo y comprende como funciona np.arange\n",
        "np.arange(2, 16, 2)"
      ],
      "execution_count": 98,
      "outputs": [
        {
          "output_type": "execute_result",
          "data": {
            "text/plain": [
              "array([ 2,  4,  6,  8, 10, 12, 14])"
            ]
          },
          "metadata": {},
          "execution_count": 98
        }
      ]
    },
    {
      "cell_type": "markdown",
      "metadata": {
        "id": "ad8MpgsK9IyB"
      },
      "source": [
        "## Funciones estadisticas"
      ]
    },
    {
      "cell_type": "markdown",
      "metadata": {
        "id": "hkKe1XHu9IyB"
      },
      "source": [
        "NumPy nos facilita varias funciones que nos permitiran obtener algunos parametros estadisticos de nuestros arrays. Veamos cuales son estas funciones."
      ]
    },
    {
      "cell_type": "code",
      "metadata": {
        "id": "nXp_uV3j9IyC",
        "outputId": "f45aafb3-08ed-486b-fd3c-a2151e994981",
        "colab": {
          "base_uri": "https://localhost:8080/"
        }
      },
      "source": [
        "#Volvamos a ver como era nuestro array nuevo_array\n",
        "print(nuevo_array)"
      ],
      "execution_count": 94,
      "outputs": [
        {
          "output_type": "stream",
          "name": "stdout",
          "text": [
            "[[ 0  1  3]\n",
            " [ 3  4  5]\n",
            " [ 9 10  4]\n",
            " [ 2  5  6]]\n"
          ]
        }
      ]
    },
    {
      "cell_type": "markdown",
      "metadata": {
        "id": "2Pn6RQZU9IyE"
      },
      "source": [
        "- `np.mean()`: Media o Promedio."
      ]
    },
    {
      "cell_type": "code",
      "metadata": {
        "id": "nRBJGUd39IyF",
        "outputId": "2dc02bc2-dead-41e9-e637-0ae3cd78224e",
        "colab": {
          "base_uri": "https://localhost:8080/"
        }
      },
      "source": [
        "#usa la funcion mean para obtener el promedio de los valores en nuevo_array\n",
        "np.mean(nuevo_array)"
      ],
      "execution_count": 95,
      "outputs": [
        {
          "output_type": "execute_result",
          "data": {
            "text/plain": [
              "np.float64(4.333333333333333)"
            ]
          },
          "metadata": {},
          "execution_count": 95
        }
      ]
    },
    {
      "cell_type": "markdown",
      "metadata": {
        "id": "Zc1r1TvP9IyG"
      },
      "source": [
        "- `np.var()`: Devuelve la dispersión de los valores alrededor de la media"
      ]
    },
    {
      "cell_type": "code",
      "metadata": {
        "id": "WJGJTzY89IyI",
        "outputId": "8732d3e7-4898-4fef-eac3-c25897ba3b55",
        "colab": {
          "base_uri": "https://localhost:8080/"
        }
      },
      "source": [
        "#usa la funcion var para obtener la varianza de los valores en nuevo_array\n",
        "np.var(nuevo_array)"
      ],
      "execution_count": 97,
      "outputs": [
        {
          "output_type": "execute_result",
          "data": {
            "text/plain": [
              "np.float64(8.055555555555557)"
            ]
          },
          "metadata": {},
          "execution_count": 97
        }
      ]
    },
    {
      "cell_type": "markdown",
      "metadata": {
        "id": "9eM5HfIk9IyK"
      },
      "source": [
        "- `np.sum()`: devuelve la suma de todos los valores en el array.\n",
        "- `np.min()`: devuelve el menor valor en el array\n",
        "- `np.max()`: devuelve el maximo valor en el array"
      ]
    },
    {
      "cell_type": "code",
      "metadata": {
        "id": "MMaX3qaq9IyK",
        "outputId": "ef788b7c-49d4-4485-f00a-2a33fffb9ad6",
        "colab": {
          "base_uri": "https://localhost:8080/"
        }
      },
      "source": [
        "#Muestra la suma de los valores en nuevo_array\n",
        "print(np.sum(nuevo_array))\n",
        "\n",
        "#Muestra el minimo y maximo valor en nuevo array\n",
        "\n",
        "print(np.min(nuevo_array))\n",
        "print(np.max(nuevo_array))"
      ],
      "execution_count": 99,
      "outputs": [
        {
          "output_type": "stream",
          "name": "stdout",
          "text": [
            "52\n",
            "0\n",
            "10\n"
          ]
        }
      ]
    }
  ]
}